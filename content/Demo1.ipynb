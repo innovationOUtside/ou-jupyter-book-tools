{
 "cells": [
  {
   "cell_type": "markdown",
   "id": "differential-funeral",
   "metadata": {},
   "source": [
    "# Demo Tagstyled notebook\n",
    "\n",
    "For testing against Jupyter Book"
   ]
  },
  {
   "cell_type": "markdown",
   "id": "meaningful-tracker",
   "metadata": {},
   "source": [
    "No tag cell."
   ]
  },
  {
   "cell_type": "markdown",
   "id": "rising-representative",
   "metadata": {
    "tags": [
     "alert-success"
    ]
   },
   "source": [
    "`alert-success` cell\n",
    "\n",
    "Should be green."
   ]
  },
  {
   "cell_type": "markdown",
   "id": "actual-buffalo",
   "metadata": {
    "tags": [
     "alert-warning"
    ]
   },
   "source": [
    "`alert-warning` cell\n",
    "\n",
    "Should be yellow."
   ]
  },
  {
   "cell_type": "markdown",
   "id": "functioning-level",
   "metadata": {
    "tags": [
     "alert-danger"
    ]
   },
   "source": [
    "`alert-danger` cell\n",
    "\n",
    "Should be pink."
   ]
  },
  {
   "cell_type": "markdown",
   "id": "material-rider",
   "metadata": {
    "tags": [
     "alert-info"
    ]
   },
   "source": [
    "`alert-info`  cell\n",
    "\n",
    "Should be blue."
   ]
  }
 ],
 "metadata": {
  "celltoolbar": "Tags",
  "kernelspec": {
   "display_name": "Python 3",
   "language": "python",
   "name": "python3"
  },
  "language_info": {
   "codemirror_mode": {
    "name": "ipython",
    "version": 3
   },
   "file_extension": ".py",
   "mimetype": "text/x-python",
   "name": "python",
   "nbconvert_exporter": "python",
   "pygments_lexer": "ipython3",
   "version": "3.9.5"
  }
 },
 "nbformat": 4,
 "nbformat_minor": 5
}
