{
 "cells": [
  {
   "cell_type": "markdown",
   "id": "differential-funeral",
   "metadata": {},
   "source": [
    "# Demo Tagstyled notebook\n",
    "\n",
    "For testing against Jupyter Book"
   ]
  },
  {
   "cell_type": "markdown",
   "id": "meaningful-tracker",
   "metadata": {},
   "source": [
    "No tag cell."
   ]
  },
  {
   "cell_type": "markdown",
   "id": "rising-representative",
   "metadata": {
    "tags": [
     "alert-success"
    ]
   },
   "source": [
    ":::{admonition} Note\n",
    ":class: tip\n",
    "`alert-success` cell\n",
    "\n",
    "Should be green.\n",
    ":::"
   ]
  },
  {
   "cell_type": "markdown",
   "id": "actual-buffalo",
   "metadata": {
    "tags": [
     "alert-warning"
    ]
   },
   "source": [
    ":::{admonition} Note\n",
    ":class: attention\n",
    "`alert-warning` cell\n",
    "\n",
    "Should be yellow.\n",
    ":::"
   ]
  },
  {
   "cell_type": "markdown",
   "id": "functioning-level",
   "metadata": {
    "tags": [
     "alert-danger"
    ]
   },
   "source": [
    ":::{admonition} Note\n",
    ":class: danger\n",
    "`alert-danger` cell\n",
    "\n",
    "Should be pink.\n",
    ":::"
   ]
  },
  {
   "cell_type": "markdown",
   "id": "material-rider",
   "metadata": {
    "tags": [
     "alert-info"
    ]
   },
   "source": [
    ":::{admonition} Note\n",
    ":class: note\n",
    "`alert-info`  cell\n",
    "\n",
    "Should be blue.\n",
    ":::"
   ]
  }
 ],
 "metadata": {
  "celltoolbar": "Tags",
  "kernelspec": {
   "display_name": "Python 3",
   "language": "python",
   "name": "python3"
  },
  "language_info": {
   "codemirror_mode": {
    "name": "ipython",
    "version": 3
   },
   "file_extension": ".py",
   "mimetype": "text/x-python",
   "name": "python",
   "nbconvert_exporter": "python",
   "pygments_lexer": "ipython3",
   "version": "3.9.5"
  }
 },
 "nbformat": 4,
 "nbformat_minor": 5
}
